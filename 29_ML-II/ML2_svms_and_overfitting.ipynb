{
 "cells": [
  {
   "cell_type": "markdown",
   "metadata": {},
   "source": [
    "Today we're going to walk through an example of predicting tumor and normal status directly from gene expression values. We'll be using the python package scikit learn to construct our SVM classifier. For machine learning, we highly recommend this package.\n",
    "\n",
    "Lots of documentation is available:\n",
    "http://scikit-learn.org/stable/documentation.html\n",
    "\n",
    "We're going to be working on a support vector machine classifier. As we dig into the details, make sure you're referring to the documentation for more information:\n",
    "http://scikit-learn.org/stable/modules/generated/sklearn.svm.SVC.html"
   ]
  },
  {
   "cell_type": "code",
   "execution_count": 46,
   "metadata": {
    "collapsed": false
   },
   "outputs": [],
   "source": [
    "import numpy as np\n",
    "from sklearn import svm\n",
    "from sklearn import preprocessing"
   ]
  },
  {
   "cell_type": "code",
   "execution_count": 47,
   "metadata": {
    "collapsed": true
   },
   "outputs": [],
   "source": [
    "# Define a useful helper function to read in our PCL files and store the gene names, \n",
    "# matrix of values, and sample names\n",
    "# We'll use this function later, but we don't need to dig into how it works here.\n",
    "\n",
    "def read_dataset(filename):\n",
    "    data_fh = open(filename)\n",
    "    samples = data_fh.readline().strip().split('\\t')  # sample ids tab delimited\n",
    "    gids = []  # gene ids will be stored here\n",
    "    genes_samples = []  # genes x samples -- gene major\n",
    "    for line in data_fh:\n",
    "        toks = line.strip().split('\\t')\n",
    "        gids.append(toks[0])  # add gene id\n",
    "        vals = [float(x) for x in toks[1:]]\n",
    "        zarray = preprocessing.scale(vals) # make each gene's expression values comparable\n",
    "        genes_samples.append(zarray)\n",
    "    data_fh.close()\n",
    "    #because we want samples x genes instead of genes x samples, we need to transpose\n",
    "    samples_genes = np.transpose(np.array(genes_samples))\n",
    "    return {'genes': gids, 'matrix': samples_genes, 'samples': samples}\n"
   ]
  },
  {
   "cell_type": "code",
   "execution_count": 48,
   "metadata": {
    "collapsed": true
   },
   "outputs": [],
   "source": [
    "# Use the function that we defined to read in our dataset\n",
    "bric = read_dataset('METABRIC_dataset.pcl')"
   ]
  },
  {
   "cell_type": "code",
   "execution_count": 49,
   "metadata": {
    "collapsed": false
   },
   "outputs": [],
   "source": [
    "# Now we need to figure out which samples in metabric are tumors and which are normal.\n",
    "# We will store this in status_list (matching each example in the dataset), so that we\n",
    "# can provide this to scikit learn's SVM implementation.\n",
    "\n",
    "status = {}  # hold tumor/normal status encoded as 1 (tumor)/2 (normal)\n",
    "label_fh = open('tumor_normal_label.txt')\n",
    "for line in label_fh:\n",
    "    toks = line.strip().split()\n",
    "    if toks[1] == 'Tumor':\n",
    "        status[toks[0]] = 1\n",
    "    elif toks[1] == 'Normal':\n",
    "        status[toks[0]] = 2\n",
    "\n",
    "status_list = []\n",
    "for sample in bric['samples']:\n",
    "    status_list.append(status[sample])\n"
   ]
  },
  {
   "cell_type": "code",
   "execution_count": 50,
   "metadata": {
    "collapsed": false
   },
   "outputs": [
    {
     "name": "stdout",
     "output_type": "stream",
     "text": [
      "Training Accuracy: 0.932584269663\n"
     ]
    }
   ],
   "source": [
    "# Now we're going to construct a classifier. First we need to set up our parameters\n",
    "svm_classifier = svm.SVC(C=0.000001, kernel='linear')\n",
    "\n",
    "# Once our parameters are set, we can fit the classifier to our data\n",
    "svm_classifier.fit(bric['matrix'], status_list)\n",
    "\n",
    "# Once we have our classifier, we can apply it back to the examples and get our score\n",
    "# Since this is binary classification. We get an accuracy.\n",
    "score = svm_classifier.score(bric['matrix'], status_list)\n",
    "print(\"Training Accuracy: \" + str(score))\n"
   ]
  },
  {
   "cell_type": "markdown",
   "metadata": {},
   "source": [
    "Congratulations! You've built your first SVM, and on training data it separates tumor data from normal data with over 90% accuracy! Now that we've done this with some biomedical data, let's take a step back and talk about things we should consider as we build a model."
   ]
  },
  {
   "cell_type": "markdown",
   "metadata": {},
   "source": [
    "_Q1: What are our labels?_"
   ]
  },
  {
   "cell_type": "markdown",
   "metadata": {},
   "source": []
  },
  {
   "cell_type": "markdown",
   "metadata": {},
   "source": [
    "_Q2: What are our features?_"
   ]
  },
  {
   "cell_type": "markdown",
   "metadata": {},
   "source": []
  },
  {
   "cell_type": "markdown",
   "metadata": {},
   "source": [
    "_Q3: What are our examples?_"
   ]
  },
  {
   "cell_type": "markdown",
   "metadata": {},
   "source": []
  },
  {
   "cell_type": "markdown",
   "metadata": {
    "collapsed": false
   },
   "source": [
    "### Overfitting in machine learning ###"
   ]
  },
  {
   "cell_type": "markdown",
   "metadata": {},
   "source": [
    "When you train a computer to build a model that describes data that you've seen, a challenge known as \"overfitting\" can arise. When fitting the model, we want to find a model that fits the data as well as possible. However, real data is noisy. The model that fits data we have with the least error may capture the main features of the data, but may also capture noise in the data that we don't intend to model.  When a model fits noise in training data, we call this problem overfitting. "
   ]
  },
  {
   "cell_type": "markdown",
   "metadata": {},
   "source": [
    "For example, imagine that a professor wants to test a group of students' knowledge of calculus. She gives the students previous exam questions and answers to study. However, in the final exam, she uses the same questions to test the students. Some of the students could do very well because they memorized answers to the questions even though they don't understand calculus. The professor realizes this problem and then gives the students a new set of questions to test them. The students who memorized all the answers to previous exam questions may fail the new exam because they have no idea how to solve the new problems. We would say that those students have \"overfit\" to training data. "
   ]
  },
  {
   "cell_type": "markdown",
   "metadata": {},
   "source": [
    "How can overfitting be a problem with machine learning? Don't we want the model to fit the data as well as possible? The reason is we want a model that captures the features that will also exist in some new data. If the model fits the noise in the data, the model will perform poorly on new data sets! "
   ]
  },
  {
   "cell_type": "markdown",
   "metadata": {},
   "source": [
    "Let's use simulations to illustrate the overfitting problem. We are going to simulate two variables x and y and we let y = x + e, where e is some noise. That is, y is a linear function of x. "
   ]
  },
  {
   "cell_type": "code",
   "execution_count": 51,
   "metadata": {
    "collapsed": true
   },
   "outputs": [],
   "source": [
    "## Load necessary Python packages\n",
    "import numpy as np # numpy makes it convenient to load/modify matrices of data\n",
    "import sklearn.linear_model as lm # this scikit learn module has code to fit a line\n",
    "import matplotlib.pyplot as plt # this lets us plot our results\n",
    "from sklearn.metrics import mean_squared_error # we use this to see how well our model fits data\n",
    "%matplotlib inline"
   ]
  },
  {
   "cell_type": "code",
   "execution_count": 52,
   "metadata": {
    "collapsed": false
   },
   "outputs": [],
   "source": [
    "# This code will make our data by adding random noise to a linear relationship\n",
    "# Simulate two variables x and y\n",
    "# y=x+e, e is some noise\n",
    "x = np.linspace(0., 2, 10)\n",
    "y = x + 0.5*np.random.randn(len(x)) "
   ]
  },
  {
   "cell_type": "markdown",
   "metadata": {},
   "source": [
    "Let's plot the data. The code in the box below will do this. As we can see, the relation between x and y is linear but with some random noise."
   ]
  },
  {
   "cell_type": "code",
   "execution_count": 53,
   "metadata": {
    "collapsed": false
   },
   "outputs": [
    {
     "data": {
      "text/plain": [
       "<matplotlib.text.Text at 0x7f2fbfe4cb10>"
      ]
     },
     "execution_count": 53,
     "metadata": {},
     "output_type": "execute_result"
    },
    {
     "data": {
      "image/png": "[encoded data removed]",
      "text/plain": [
       "<matplotlib.figure.Figure at 0x7f2fba8a3ed0>"
      ]
     },
     "metadata": {},
     "output_type": "display_data"
    }
   ],
   "source": [
    "# This uses matplotlib to show points. You've seen a little bit of this before in the kmeans code\n",
    "# We're using it for examples but you don't have to understand how this works.\n",
    "# If you one day want to plot your results using python, you might want to keep this code\n",
    "# as a reference.\n",
    "plt.figure(figsize=(8,6))\n",
    "plt.scatter(x[:100], y[:100])\n",
    "plt.xlabel(\"x\")\n",
    "plt.ylabel(\"y\")\n",
    "#plt.plot(x, y)"
   ]
  },
  {
   "cell_type": "markdown",
   "metadata": {},
   "source": [
    "Next, we want to train linear regression models on x and use the models to predict y. The models we are going to use are:  \n",
    "1. A simple linear regression model: Y~X  \n",
    "2. A complex multiple regression model: Y ~ X + X^2 + X^3 + X^4 ... + X^10  \n",
    "\n",
    "We want to choose the model that will most accurately predict y."
   ]
  },
  {
   "cell_type": "markdown",
   "metadata": {},
   "source": [
    "Let's use ski-learn to train these two models:"
   ]
  },
  {
   "cell_type": "code",
   "execution_count": 54,
   "metadata": {
    "collapsed": false
   },
   "outputs": [],
   "source": [
    "# You don't need to know how this code works. We're not going to focus on regression\n",
    "# during this course. You may want to have it to refer to in the future.\n",
    "\n",
    "### simple regression\n",
    "lr = lm.LinearRegression()\n",
    "lr.fit(x[:,np.newaxis], y);\n",
    "y_lr = lr.predict(x[:, np.newaxis])\n",
    "### multiple regression\n",
    "lrp = lm.LinearRegression()\n",
    "lrp.fit(np.vander(x, N=10, increasing=True), y)\n",
    "y_lrp = lrp.predict(np.vander(x, N=10, increasing=True))\n",
    "x_plot = np.linspace(0., 2, 1000)\n",
    "y_plot = lrp.predict(np.vander(x_plot, N=10, increasing=True))"
   ]
  },
  {
   "cell_type": "markdown",
   "metadata": {},
   "source": [
    "Let's plot the fitting results."
   ]
  },
  {
   "cell_type": "code",
   "execution_count": 55,
   "metadata": {
    "collapsed": false,
    "scrolled": true
   },
   "outputs": [
    {
     "data": {
      "text/plain": [
       "<matplotlib.legend.Legend at 0x7f2fbf20d4d0>"
      ]
     },
     "execution_count": 55,
     "metadata": {},
     "output_type": "execute_result"
    },
    {
     "data": {
      "image/png": "[encoded data removed]",
      "text/plain": [
       "<matplotlib.figure.Figure at 0x7f2fba8a3d10>"
      ]
     },
     "metadata": {},
     "output_type": "display_data"
    }
   ],
   "source": [
    "plt.figure(figsize=(8,6))\n",
    "plt.scatter(x, y)\n",
    "plt.plot(x, y_lr, 'g',label='Simple regression')\n",
    "plt.title(\"Linear regression\")\n",
    "plt.plot(x_plot, y_plot,label='Multiple regression')\n",
    "plt.legend(loc=2)"
   ]
  },
  {
   "cell_type": "markdown",
   "metadata": {},
   "source": [
    "Let's calculate the MSE for simple regression model:"
   ]
  },
  {
   "cell_type": "code",
   "execution_count": 56,
   "metadata": {
    "collapsed": false
   },
   "outputs": [
    {
     "data": {
      "text/plain": [
       "0.11226526085802499"
      ]
     },
     "execution_count": 56,
     "metadata": {},
     "output_type": "execute_result"
    }
   ],
   "source": [
    "mean_squared_error(y, y_lr)"
   ]
  },
  {
   "cell_type": "markdown",
   "metadata": {},
   "source": [
    "Let's calculate the MSE for multiple regression model:"
   ]
  },
  {
   "cell_type": "code",
   "execution_count": 57,
   "metadata": {
    "collapsed": false
   },
   "outputs": [
    {
     "data": {
      "text/plain": [
       "1.9071226619872162e-21"
      ]
     },
     "execution_count": 57,
     "metadata": {},
     "output_type": "execute_result"
    }
   ],
   "source": [
    "mean_squared_error(y, y_lrp)"
   ]
  },
  {
   "cell_type": "markdown",
   "metadata": {},
   "source": [
    "The multiple regression model fits the data perferlly (MSE is almost 0). The predicted values are the exact the same as the observed values since the prediction curve goes through every point. However, the simple regression model captures the linear relation between x and y but it didn't predict perfectlly well with the observed values. Then, shoud we choose multiple regression model rather than simple regression model since the former fitts the data much better than the latter?"
   ]
  },
  {
   "cell_type": "markdown",
   "metadata": {},
   "source": [
    "_Q4: Which model do you think is the better model? Why?_"
   ]
  },
  {
   "cell_type": "markdown",
   "metadata": {},
   "source": []
  },
  {
   "cell_type": "markdown",
   "metadata": {},
   "source": [
    "Remember that we want to find a model that fits the data well and, most importantly, can predict well on some new data. Let's simulate some new data and see the prediction performance of each model on the new data. "
   ]
  },
  {
   "cell_type": "code",
   "execution_count": 58,
   "metadata": {
    "collapsed": true
   },
   "outputs": [],
   "source": [
    "x_new = np.linspace(0., 2, 10)\n",
    "y_new = x + 0.5*np.random.randn(len(x_new)) \n",
    "y_lr_new = lr.predict(x_new[:, np.newaxis])\n",
    "y_lrp_new = lrp.predict(np.vander(x_new, N=10, increasing=True))"
   ]
  },
  {
   "cell_type": "markdown",
   "metadata": {},
   "source": [
    "MSE for simple regression on new data:"
   ]
  },
  {
   "cell_type": "code",
   "execution_count": 59,
   "metadata": {
    "collapsed": false
   },
   "outputs": [
    {
     "data": {
      "text/plain": [
       "0.33387506414693657"
      ]
     },
     "execution_count": 59,
     "metadata": {},
     "output_type": "execute_result"
    }
   ],
   "source": [
    "mean_squared_error(y_new, y_lr_new)"
   ]
  },
  {
   "cell_type": "markdown",
   "metadata": {},
   "source": [
    "MSE for multiple regression on new data:"
   ]
  },
  {
   "cell_type": "code",
   "execution_count": 60,
   "metadata": {
    "collapsed": false
   },
   "outputs": [
    {
     "data": {
      "text/plain": [
       "0.44324326403952463"
      ]
     },
     "execution_count": 60,
     "metadata": {},
     "output_type": "execute_result"
    }
   ],
   "source": [
    "mean_squared_error(y_new, y_lrp_new)"
   ]
  },
  {
   "cell_type": "markdown",
   "metadata": {},
   "source": [
    "The multiple regression model (MSE=0.349) performs worse than simple regression model (MSE=0.232) on the new data. This is because the multiple regression model overfits the training data. It captures not only the true linear relation between x and y but also the random noise. However, simple regression only captures linear relation. "
   ]
  },
  {
   "cell_type": "markdown",
   "metadata": {},
   "source": [
    "This also demonstrates that it is not a good idea to train and evaluate a model on the same data set. If so, we tend to choose the model that overfits the data. However, in real data analysis, you will occasionally see papers reporting nearly perfect model fitting results. If you look closely, you will find that the authors fit and evaluate the model on the same data set. You now know that this is a typical overfitting problem. In your future research, be careful with the overfitting problem when you try some machine learning models on your data!"
   ]
  },
  {
   "cell_type": "markdown",
   "metadata": {},
   "source": [
    "To avoid overfitting, there are several methods. One is to use regularization in the model to reduce the model complexity. The other is to train the model on one dataset and evaluate the model on a separate dataset. "
   ]
  },
  {
   "cell_type": "markdown",
   "metadata": {},
   "source": [
    "## Homework: BRCA Tumor/Normal - Revisited!\n",
    "\n",
    "We are lucky enough to have an independent validation dataset of breast cancers from The Cancer Genome Atlas (TCGA). Let's see how our classifier does here!"
   ]
  },
  {
   "cell_type": "code",
   "execution_count": 61,
   "metadata": {
    "collapsed": false
   },
   "outputs": [],
   "source": [
    "# Let's read in the dataset and mark examples as tumor or normal depending on \n",
    "# how they are annotated the sample description file (BRCA.547.PAM50.SigClust.Subtypes.txt)\n",
    "\n",
    "tcga = read_dataset('TCGA_dataset.pcl')\n",
    "tcga_status = {}  # hol tumor/normal status encoded as 1 (tumor)/2 (normal)\n",
    "label_fh = open('BRCA.547.PAM50.SigClust.Subtypes.txt')\n",
    "for line in label_fh:\n",
    "    toks = line.strip().split()\n",
    "    if toks[1] == 'tumor-adjacent normal':\n",
    "        tcga_status[toks[0]] = 2\n",
    "    else:\n",
    "        tcga_status[toks[0]] = 1\n",
    "\n",
    "tcga_status_list = []\n",
    "for sample in tcga['samples']:\n",
    "    tcga_status_list.append(tcga_status[sample])\n"
   ]
  },
  {
   "cell_type": "code",
   "execution_count": 62,
   "metadata": {
    "collapsed": false
   },
   "outputs": [
    {
     "name": "stdout",
     "output_type": "stream",
     "text": [
      "Testing Accuracy: 1.0\n"
     ]
    }
   ],
   "source": [
    "# Ok - now let's apply our classifier from before to these data:\n",
    "tcga_score = svm_classifier.score(tcga['matrix'], tcga_status_list)\n",
    "print(\"Testing Accuracy: \" + str(tcga_score))\n"
   ]
  },
  {
   "cell_type": "markdown",
   "metadata": {},
   "source": [
    "_Q0: Report the training and testing accuracy observed with C = 0.000001 (1 pt)_"
   ]
  },
  {
   "cell_type": "markdown",
   "metadata": {},
   "source": []
  },
  {
   "cell_type": "markdown",
   "metadata": {},
   "source": [
    "_Q1: Do you think that your breast cancer classifier is under or overfitting your data? Why or why not? (3 pts)_"
   ]
  },
  {
   "cell_type": "markdown",
   "metadata": {},
   "source": []
  },
  {
   "cell_type": "markdown",
   "metadata": {},
   "source": [
    "_Q2: Based on your answer to Q1, should you raise, lower, or keep C the same here? (1 pt)_"
   ]
  },
  {
   "cell_type": "markdown",
   "metadata": {},
   "source": []
  },
  {
   "cell_type": "markdown",
   "metadata": {},
   "source": [
    "_Q3: Justify your answer to Q2 (3 pts)"
   ]
  },
  {
   "cell_type": "markdown",
   "metadata": {},
   "source": []
  },
  {
   "cell_type": "markdown",
   "metadata": {},
   "source": [
    "_Q4: Try a different C. Report your training and testing accuracy (2 pts)._"
   ]
  },
  {
   "cell_type": "markdown",
   "metadata": {},
   "source": []
  }
 ],
 "metadata": {
  "kernelspec": {
   "display_name": "Python 2 (SageMath)",
   "language": "python",
   "name": "python2"
  },
  "language_info": {
   "codemirror_mode": {
    "name": "ipython",
    "version": 2
   },
   "file_extension": ".py",
   "mimetype": "text/x-python",
   "name": "python",
   "nbconvert_exporter": "python",
   "pygments_lexer": "ipython2",
   "version": "2.7.10"
  },
  "name": "ML2_svms.ipynb"
 },
 "nbformat": 4,
 "nbformat_minor": 0
}
