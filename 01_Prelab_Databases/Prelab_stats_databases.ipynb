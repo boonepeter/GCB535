{
 "cells": [
  {
   "cell_type": "markdown",
   "metadata": {
    "collapsed": false
   },
   "source": [
    "# Pre-lab: Stats and Genomic Databases"
   ]
  },
  {
   "cell_type": "markdown",
   "metadata": {
    "collapsed": false
   },
   "source": [
    "## I. Statistics Primer and Review"
   ]
  },
  {
   "cell_type": "markdown",
   "metadata": {
    "collapsed": false
   },
   "source": [
    "Often in bioinformatics, we need to remind ourselves to think somewhat in statistical or probabilistic terms.\n",
    "\n",
    "If you need a refresher, head to Canvas and review the slides and recorded lecture \"Statistical Inference in Bioinformatics\" (recorded by Shane Jensen, statistics). This is a **very** cursory review, not designed to be comprehensive. Then, answer the following questions. "
   ]
  },
  {
   "cell_type": "markdown",
   "metadata": {
    "collapsed": false
   },
   "source": [
    "Q1. Describe, in statistical terms, the concept of a \"null hypothesis\". How are ways a null hypothesis can be utilzed? "
   ]
  },
  {
   "cell_type": "raw",
   "metadata": {
    "collapsed": true
   },
   "source": [
   ]
  },
  {
   "cell_type": "markdown",
   "metadata": {
    "collapsed": false
   },
   "source": [
    "Q2. What is a test statistic, and how it is used?"
   ]
  },
  {
   "cell_type": "raw",
   "metadata": {
    "collapsed": false
   },
   "source": [
   ]
  },
  {
   "cell_type": "markdown",
   "metadata": {
    "collapsed": false
   },
   "source": [
    "Q3. If we reject the null hypothesis at alpha = 5% level, what does that mean?"
   ]
  },
  {
   "cell_type": "raw",
   "metadata": {
    "collapsed": false
   },
   "source": [
   ]
  },
  {
   "cell_type": "markdown",
   "metadata": {
    "collapsed": false
   },
   "source": [
    "Q4. Explain the issue of multiple hypothesis testing, and the implication. Give two statistical procedures to address this concern, and describe how to employ them."
   ]
  },
  {
   "cell_type": "raw",
   "metadata": {
    "collapsed": false
   },
   "source": [
   ]
  },
  {
   "cell_type": "markdown",
   "metadata": {
    "collapsed": true
   },
   "source": [
    "## II. Databases"
   ]
  },
  {
   "cell_type": "markdown",
   "metadata": {
    "collapsed": false
   },
   "source": [
    "One of the first steps in any computational project is to determine what data **already exists** that one can utilize to address scientific questions or gather information. Take 10 minutes to web browse and investigate one or more of the databases given below. "
   ]
  },
  {
   "cell_type": "markdown",
   "metadata": {
    "collapsed": false
   },
   "source": [
    "** List of Genomic Databases **\n",
    "\n",
    "NCBI Entrez - http://www.ncbi.nlm.nih.gov/sites/gquery - huge database that encompasses other databases, including:\n",
    "- PubMed for Journal Articles - http://www.ncbi.nlm.nih.gov/pubmed/\n",
    "- GenBank for Raw Sequence - http://www.ncbi.nlm.nih.gov/genbank/\n",
    "- RefSeq for Non-Redundant Sequence - http://www.ncbi.nlm.nih.gov/RefSeq/\n",
    "- OMIM for Genetic Diseases - http://www.ncbi.nlm.nih.gov/omim?db=omim\n",
    "- dbSNP for Polymorphisms - http://www.ncbi.nlm.nih.gov/snp?db=snp\n",
    "- GEO for Gene Expression Data - http://www.ncbi.nlm.nih.gov/geo/\n",
    "\n",
    "ExPASy - http://expasy.org/ - Another large database encompassing other databases:\n",
    "- Uniprot for Protein Sequence/Annotation - http://www.uniprot.org/\n",
    "- PROSITE for Protein Sequence Patterns - http://prosite.expasy.org/\n",
    "- ENSEMBL - http://useast.ensembl.org/index.html - An alternative to RefSeq and UniProt\n",
    "- GeneCards - http://www.genecards.org/ - Gene-centered portal to information from many other databases\n",
    "- ENCODE - http://www.genome.gov/10005107 - Encyclopedia of DNA Elements\n",
    "- HapMap - http://hapmap.ncbi.nlm.nih.gov/ - Database of human variation across populations\n",
    "- ExAC - http://exac.broadinstitute.org - database of human coding mutational variation across populations\n",
    "- Gene Ontology (GO) - http://www.geneontology.org/ - Hierarchy of gene annotations\n",
    "- MGED - http://www.mged.org/ - Database of gene expression/microarray results \n",
    "\n",
    "This list is by no means complete, for more databases see the most recent Database Summary Paper Alpha List: http://www.oxfordjournals.org/nar/database/a/"
   ]
  },
  {
   "cell_type": "markdown",
   "metadata": {
    "collapsed": false
   },
   "source": [
    "In particular, the in class activity will focus on the UCSC genome brower\n",
    "\n",
    "- http://genome.ucsc.edu/ \n",
    "\n",
    "a portal that uses a Track-based system to summarize information from many databases of genomic sequence and annotations. \n",
    "\n",
    "Spend 5 minutes on your own exploring this rich resource."
   ]
  }
 ],
 "metadata": {
  "kernelspec": {
   "display_name": "Python 2 (SageMath)",
   "language": "python",
   "name": "python2"
  },
  "language_info": {
   "codemirror_mode": {
    "name": "ipython",
    "version": 2
   },
   "file_extension": ".py",
   "mimetype": "text/x-python",
   "name": "python",
   "nbconvert_exporter": "python",
   "pygments_lexer": "ipython2",
   "version": "2.7.14"
  },
  "name": "Online_database_in_class.ipynb"
 },
 "nbformat": 4,
 "nbformat_minor": 0
}