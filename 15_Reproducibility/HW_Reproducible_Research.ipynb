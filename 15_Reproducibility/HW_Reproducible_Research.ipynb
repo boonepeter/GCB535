{
 "cells": [
  {
   "cell_type": "markdown",
   "metadata": {},
   "source": [
    "# In-class: Reproducible Computational Research #"
   ]
  },
  {
   "cell_type": "markdown",
   "metadata": {},
   "source": [
    "Please read the following papers and answer the questions below. You can download the papers from Sagemathcloud.\n",
    "1. Reproducible Research in Computational Science by Roger D. Peng\n",
    "2. Ten Simple Rules for Reproducible Computational Research by Sandve et. al."
   ]
  },
  {
   "cell_type": "markdown",
   "metadata": {},
   "source": [
    "**Question 1:** Why is it important to make your research reproducible?"
   ]
  },
  {
   "cell_type": "code",
   "execution_count": null,
   "metadata": {
    "collapsed": true
   },
   "outputs": [],
   "source": []
  },
  {
   "cell_type": "markdown",
   "metadata": {},
   "source": [
    "**Question 2:** Imagine that you just finished a computational project and submitted the paper to a journal. What can you do to make sure that other people and yourself can reproduce your results? (Give at least two)"
   ]
  },
  {
   "cell_type": "code",
   "execution_count": null,
   "metadata": {
    "collapsed": true
   },
   "outputs": [],
   "source": []
  },
  {
   "cell_type": "markdown",
   "metadata": {},
   "source": [
    "Nowadays, many journals recommend and even require the authors to provide their code for others to reproduce the analysis in the manuscript. The best way to do this is to attach a markdown file as a supplementary file. In the following homework assignment, image you are working on a gene expression dataset. You want to do some analysis with this dataset and publish a paper. To make sure someone else can reproduce your analysis and results, you want to generate a report with the code and the output results. "
   ]
  },
  {
   "cell_type": "markdown",
   "metadata": {},
   "source": [
    "# Homework assignment #"
   ]
  },
  {
   "cell_type": "markdown",
   "metadata": {},
   "source": [
    "In this HW, you will use RStudio to do some anlaysis based on the genes.table dataset and create a markdown file to report your analysis and results. Please install the RSudio on your computer if haven't done so. In the following homowork assignment, you don't need to submite your code. Instead, upload your HTML,PDF and Word generated from RStudio to the Sagemathcloud. "
   ]
  },
  {
   "cell_type": "markdown",
   "metadata": {},
   "source": [
    "You can use the R code in the previous R sections to generate the report. Watch the video in the pre-lab can help you understand how to generate R markdown file."
   ]
  },
  {
   "cell_type": "markdown",
   "metadata": {},
   "source": [
    "**Step 1: Create a R markdown file. Change the default document title and author names.**"
   ]
  },
  {
   "cell_type": "markdown",
   "metadata": {},
   "source": [
    "Open RStudio and create a new R markdown file (Rmd file). Change the document title and author names when you create the Rmd file and click OK. You will see a template automatically created for you by RStudio. Next, save the file by clicking \"File\" -> \"Save\". You may want to rename the default file name \"Untitled\" to something else. "
   ]
  },
  {
   "cell_type": "markdown",
   "metadata": {},
   "source": [
    "**Step 2: Create code chunks. Put your R code into code chunks. Try to organize your code into different code chunks. For example, code related to Question 1 goes into one chunk, code related to Question 2 goes into another chunk, etc. Write necessary comments, annotations and interpretations out of each code chunk. For example, what analysis are you trying to do? What results do you get and how you interpret them? **"
   ]
  },
  {
   "cell_type": "markdown",
   "metadata": {},
   "source": [
    "1. Load data table:  Create a code chunk. In the chunk, write some R code to read the genes.table file. If you don't know how to load a file into R, go back to the previous R homework. Use head() function to print out the first few rows of the table and check if you correctly load the table.\n",
    "2. Count how many samples and genes you have in the table (use dim() function to count how many rows and columns in the table).  \n",
    "3. Outside the code chunk, write down what analysis you are trying to do and what results you get. For example, \"I will load the gene expression table into R and count how many samples and genes\" and \"The data table has X samples and Y genes\". Write down whatever you think is necessary to help other people understand what you are trying to do. You can write either before or after code chunk.\n",
    "4. Create a new code chunk. Write some code inside the chunk to plot the distribution of abundance (use hist() function) for the genes. Outside the code chunk, write down what conclusion you can get from these plots. For example, do they look like normally distributed? What kind of statistical tests is approprite for this kind of data? T-test or Wilcoxon rank test? Why?\n",
    "5. Create a new code chunk. Inside the code chunk, use approprite statistical test (In R, the function for t-test is t.test() and the function for Wilcoxon rank test is wilcox.test()) to compare the gene expression values. For example, you can compare geneA vs. geneB or whatever gene pairs. Make sure to use approprite statistical test especially when the expression values are not normally distributed. Outside the code chunk, write down what statistical test you use in the analysis and what resutls you get. You can write down whatever results you get from this analysis."
   ]
  },
  {
   "cell_type": "markdown",
   "metadata": {},
   "source": [
    "**Step 3: Generate a HTML report file by \"Knit HTML\"**"
   ]
  },
  {
   "cell_type": "markdown",
   "metadata": {},
   "source": [
    "Click \"Knit HTML\" button on the top of the RStudio. You can visualize this HTML file in any web browser (for example, Chrome). "
   ]
  },
  {
   "cell_type": "markdown",
   "metadata": {},
   "source": [
    "**Step 4: Also generate a PDF report file by \"Knit PDF\" and a Word document by \"Knit Word\"**"
   ]
  },
  {
   "cell_type": "markdown",
   "metadata": {},
   "source": [
    "Sometimes, you may want to generate a Word document or a PDF file instead of the HTML file.  Those can be easily generated in RStudio. Click the arrow near the \"Knit HTML\" button and you will see the \"Knit PDF\" and \"Knit Word\" options. "
   ]
  },
  {
   "cell_type": "markdown",
   "metadata": {},
   "source": [
    "**Step 5: Upload the HTML, PDF and Word documents to Sagemathcloud**"
   ]
  },
  {
   "cell_type": "markdown",
   "metadata": {},
   "source": [
    "When you generate the HTML, PDF and Word documents, RStudio will automatically save them to the folder where you put your .Rmd file.  Remember that in Step 1, we create the R markdown file (.Rmd file) and save it to some folder. You can find your HTML,PDF and Word documents in that folder."
   ]
  },
  {
   "cell_type": "markdown",
   "metadata": {},
   "source": [
    "In Sagemathcloud, click \"New\" on the top of the page. You will see a \"drag and drop files\" area. Click it and upload your files. "
   ]
  }
 ],
 "metadata": {
  "kernelspec": {
   "display_name": "Python 2 (SageMath)",
   "language": "python",
   "name": "python2"
  },
  "language_info": {
   "codemirror_mode": {
    "name": "ipython",
    "version": 2
   },
   "file_extension": ".py",
   "mimetype": "text/x-python",
   "name": "python",
   "nbconvert_exporter": "python",
   "pygments_lexer": "ipython2",
   "version": "2.7.10"
  },
  "name": "HW_Reproducible_Research.ipynb"
 },
 "nbformat": 4,
 "nbformat_minor": 0
}
