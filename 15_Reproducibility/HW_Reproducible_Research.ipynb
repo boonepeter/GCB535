{
 "cells": [
  {
   "cell_type": "markdown",
   "metadata": {},
   "source": [
    "# In-class: Reproducible Computational Research #"
   ]
  },
  {
   "cell_type": "markdown",
   "metadata": {},
   "source": [
    "Make sure your kernel is set to \"R (SageMath)\" so you can test these commands in your ipynb! (Kernel > Change kernel). "
   ]
  },
  {
   "cell_type": "markdown",
   "metadata": {},
   "source": [
    "## Part 1: Making your code clear"
   ]
  },
  {
   "cell_type": "markdown",
   "metadata": {},
   "source": [
    "In R, you can comment your code using the # symbol. For every block of code in R, you should have a comment describing what it does. For instance:\n"
   ]
  },
  {
   "cell_type": "code",
   "execution_count": null,
   "metadata": {
    "collapsed": true
   },
   "outputs": [],
   "source": [
    "#Prints the next even number after a\n",
    "if(a%%2==0)\n",
    "{print(a+2)\n",
    "} else {print(a+1) }"
   ]
  },
  {
   "cell_type": "markdown",
   "metadata": {},
   "source": [
    "**Now, figure out what the following code blocks are doing, and add a comment describing what it is doing. In addition, rename any variables with bad names (will contain the string badvariable in the name) **\n",
    "\n",
    "Variables names should be short, but descriptive when possible. For instance, a variable that contains a list of prime numbers could be called primes. However, if you have a variable that just stores the value 5, something simple, like \"a\" would be fine. In order t figure out what the code is doing, run the code blocks. If needed, you can replace the \"Hello Students\" strings or x value with whatever you think would be useful in helping you figure it out."
   ]
  },
  {
   "cell_type": "code",
   "execution_count": null,
   "metadata": {
    "collapsed": true
   },
   "outputs": [],
   "source": [
    "w = \"Hello Students\" \n",
    "s <- strsplit(w, \" \")\n",
    "substr(s[[1]], 1, 2)"
   ]
  },
  {
   "cell_type": "code",
   "execution_count": null,
   "metadata": {
    "collapsed": true
   },
   "outputs": [],
   "source": [
    "w = \"Hello Students\" \n",
    "badlynamedvariable1 = c(\"a\",\"e\",\"i\",\"o\",\"u\")\n",
    "badlynamedvariable2 <- tolower(strsplit(w, \"\")[[1]])\n",
    "badlynamedvariable3 <- badlynamedvariable2[badlynamedvariable2 %in% badlynamedvariable1]\n",
    "print(badlynamedvariable3)"
   ]
  },
  {
   "cell_type": "code",
   "execution_count": null,
   "metadata": {
    "collapsed": true
   },
   "outputs": [],
   "source": [
    "x = 18\n",
    "nums = c(5,10,16,19,11)\n",
    "badlynamedvariable4 = abs(nums-x)\n",
    "which.min(badlynamedvariable4)"
   ]
  },
  {
   "cell_type": "markdown",
   "metadata": {},
   "source": [
    "# In-class/Homework assignment #"
   ]
  },
  {
   "cell_type": "markdown",
   "metadata": {},
   "source": [
    "So far in class, you have been filling in lines of code in jupyter/ipython notebooks. However, now we are ready to start making these files ourselves, and documenting the code so it is easy to understand. IPython Notebooks can be created on Sagemathcloud by clicking \"New\"->\"Jupyter Notebook\".\n",
    "\n",
    "In the following homework assignment, imagine you are working on a gene expression dataset. You want to do some analysis with this dataset and publish a paper. To make sure someone else can reproduce your analysis and results, you want to generate a report with the code and the output results. You will do so using a jupyter notebook.\n",
    "\n"
   ]
  },
  {
   "cell_type": "markdown",
   "metadata": {},
   "source": [
    "In this HW, you will use the programming language R. You will be doing a basic analysis of the genes.table dataset."
   ]
  },
  {
   "cell_type": "markdown",
   "metadata": {},
   "source": [
    "**Step 1: Create a new Jupyter Notebook file in this module's directory using the \"New\" Button in SageMathCloud. Name it something descriptive.**"
   ]
  },
  {
   "cell_type": "markdown",
   "metadata": {},
   "source": [
    "**Step 2: Put your R code into code chunks.**\n",
    "To create a new code chunk, you can use the 'Insert' Menu at the top of the jupyter notebook. For example, code related to Question 1 goes into one chunk, code related to Question 2 goes into another chunk, etc. This will make it much easier to follow than if all the code was strung together. Write necessary comments, annotations and interpretations for each code chunk. For example, what analysis are you trying to do? What results do you get and how you interpret them?\n",
    "\n",
    "You can comment specific lines of code using the '#' character. However, you can also describe your general code, or write your interpretation of results before or after the function by inserting a new cell, and changing the cell type to 'Markdown'. There is no right way to organize or comment your code in jupyter notebooks, as long as it is easy to read and descriptive."
   ]
  },
  {
   "cell_type": "markdown",
   "metadata": {},
   "source": [
    "What is the name of your jupyter notebook file?"
   ]
  },
  {
   "cell_type": "code",
   "execution_count": null,
   "metadata": {
    "collapsed": true
   },
   "outputs": [],
   "source": []
  },
  {
   "cell_type": "markdown",
   "metadata": {},
   "source": [
    "**Questions**\n",
    "1. Load data table:  Create a code chunk. In the chunk, write some R code to read in the genes.table file. If you don't know how to load a file into R, go back to the previous R homework. Use head() function to print out the first few rows of the table and check if you correctly load the table. What are the columns? \n",
    "\n",
    "2. Count how many samples and genes you have in the table (use dim() function to count how many rows and columns in the table).  \n",
    "\n",
    "3. Write some code inside a new code chunk to plot the distribution of abundance (use hist() function ) for each ofthe  genes. Outside the code chunk, write down what conclusion you can get from these plots. For example, do they look normally distributed? What kind of statistical tests is approprite for this kind of data? T-test or Wilcoxon rank test? Why? If you do not know the different, you can go back to the statistics lecture, or use google. Hint: What does the t-test assume?\n",
    "\n",
    "4. Create a new code chunk. Inside the code chunk, use the approprite statistical test (In R, the function for t-test is t.test() and the function for Wilcoxon rank test is wilcox.test()) to compare the gene expression values or at least 4 different pairs of genes. For example, you can compare the expression of geneA vs. geneB to see if they are significantly different. Make sure to use approprite statistical test especially when the expression values are not normally distributed. Outside the code chunks, write down what statistical test you use in the analysis and what results you get."
   ]
  },
  {
   "cell_type": "markdown",
   "metadata": {},
   "source": [
    "Now, make sure you hit the save button on your jupyter notebook! **Next, download your ipython notebook file as a html file(File->Download as), and take a look at it.** As you can see, it looks very similar to the code in the jupyter notebook. Next, upload it in this directory. Html files can be opened by any web browser. Therefore, this html file can be useful for sharing your results with anyone who does not have jupyter installed on their computer. You can also download jupyter notebooks as .pdf files if you have jupyter installed on your own computer. However, the pdf convertor does not always work on SageMathCloud. "
   ]
  },
  {
   "cell_type": "code",
   "execution_count": null,
   "metadata": {
    "collapsed": true
   },
   "outputs": [],
   "source": []
  }
 ],
 "metadata": {
  "kernelspec": {
   "display_name": "Python 2",
   "language": "python",
   "name": "python2"
  },
  "language_info": {
   "codemirror_mode": {
    "name": "ipython",
    "version": 2
   },
   "file_extension": ".py",
   "mimetype": "text/x-python",
   "name": "python",
   "nbconvert_exporter": "python",
   "pygments_lexer": "ipython2",
   "version": "2.7.8"
  },
  "name": "HW_Reproducible_Research.ipynb"
 },
 "nbformat": 4,
 "nbformat_minor": 0
}
