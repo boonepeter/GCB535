{
 "cells": [
  {
   "cell_type": "markdown",
   "metadata": {
    "collapsed": false
   },
   "source": [
    "### Discussion\n",
    "\n",
    "Clump together at a set of tables with a TA. Discuss your thoughts about the pre-class reading material.\n",
    "\n",
    "### Game time!\n",
    "\n",
    "Now that we have this capability and we've seen some of the dangers, we're going to spend this week on a game. In this game, we have two goals: **1) We want to build the best predictor that we can**, but **2)at all times we want to have an accurate idea of how well the predictor works**.\n",
    "\n",
    "For this game, we've managed to get our hands on some data about two diseases (D1 and D2). Each of these datasets has features in columns and examples in rows. Each feature represents a clinical measurement, while each row represents a person. We want to be able to predict whether or not a person has a disease (the last column).\n",
    "\n",
    "We'll supply you with four datasets for each disease throughout the week. For the first day, we've given you two of them. We also provide example code to read the data. From there, the path that you take is up to you. **We do not know the best predictor or even what the maximum achievable accuracy for these data!** This is a chance to experiment and find out what best captures disease status.\n",
    "\n",
    "The machine learning algorithm, SVM, that we've already introduced has many things that you can change. You've already played around with changes to the C parameter. You could change other options as well. You may want to try to play around with different \"kernel\" parameters, \"C\" parameters, even the underlying algorithm!\n",
    "\n",
    "If you feel like trying entirely different algorithms, a few potential ones are demonstrated in scikit-learn's documentation: http://scikit-learn.org/stable/auto_examples/classification/plot_classifier_comparison.html\n",
    "\n",
    "In the interests of recording your research steps, whatever you change should be recorded and noted in the iPython notebook. We provide an example first move below. In every case, please label the move number, the goal (what you hope to implement), the rationale (why you've chosen to implement that, or make that move as a result of the prior move), and an expected accuracy which you fill out after you build and run your code."
   ]
  },
  {
   "cell_type": "code",
   "execution_count": 2,
   "metadata": {
    "collapsed": false
   },
   "outputs": [
    {
     "name": "stdout",
     "output_type": "stream",
     "text": [
      "Training Accuracy: 0.5105\n",
      "Testing Accuracy: 0.495\n"
     ]
    }
   ],
   "source": [
    "# D1 - Move #1\n",
    "\n",
    "# Goal:\n",
    "# Build an SVM classifier with C=0.00001 for D1.\n",
    "# Use S1 as a training set and S2 as a testing set\n",
    "\n",
    "# Rationale:\n",
    "# We need somewhere to start. We might as well start here.\n",
    "\n",
    "# Expected Accuracy\n",
    "# Assessed using a held out test set: 0.5\n",
    "\n",
    "# numpy provides the tools to easily load our data and split the\n",
    "# features from the labels\n",
    "import numpy as np\n",
    "\n",
    "# We'll use an SVM from scikit learn\n",
    "from sklearn import svm\n",
    "\n",
    "# use numpy to load our training set\n",
    "d1_train = np.loadtxt(open(\"D1_S1.csv\", \"rb\"), delimiter=\",\")\n",
    "# features are all rows for columns before 200\n",
    "d1_train_features = d1_train[:,:200]\n",
    "# labels are in all rows at the 200th column\n",
    "d1_train_labels = d1_train[:,200]\n",
    "\n",
    "# use numpy to load our testing set\n",
    "d1_test = np.loadtxt(open(\"D1_S2.csv\", \"rb\"), delimiter=\",\")\n",
    "# features are all rows for columns before 200\n",
    "d1_test_features = d1_test[:,:200]\n",
    "# labels are in all rows at the 200th column\n",
    "d1_test_labels = d1_test[:,200]\n",
    "\n",
    "# Now we're going to construct a classifier. First we need to set up our parameters\n",
    "classifier = svm.SVC(C=0.00001, kernel='linear')\n",
    "\n",
    "# Once our parameters are set, we can fit the classifier to our data\n",
    "classifier.fit(d1_train_features, d1_train_labels)\n",
    "\n",
    "# Once we have our classifier, we can apply it back to the examples and get our score\n",
    "# Since this is binary classification. We get an accuracy.\n",
    "train_score = classifier.score(d1_train_features, d1_train_labels)\n",
    "print(\"Training Accuracy: \" + str(train_score))\n",
    "\n",
    "# We can also apply it back to our testing dataset\n",
    "test_score = classifier.score(d1_test_features, d1_test_labels)\n",
    "print(\"Testing Accuracy: \" + str(test_score))\n"
   ]
  },
  {
   "cell_type": "code",
   "execution_count": 3,
   "metadata": {
    "collapsed": false
   },
   "outputs": [
    {
     "data": {
      "text/plain": [
       "['Example-D2-0.9.pkl',\n",
       " 'Example-D2-0.9.pkl_01.npy',\n",
       " 'Example-D2-0.9.pkl_02.npy',\n",
       " 'Example-D2-0.9.pkl_03.npy',\n",
       " 'Example-D2-0.9.pkl_04.npy',\n",
       " 'Example-D2-0.9.pkl_05.npy',\n",
       " 'Example-D2-0.9.pkl_06.npy',\n",
       " 'Example-D2-0.9.pkl_07.npy',\n",
       " 'Example-D2-0.9.pkl_08.npy',\n",
       " 'Example-D2-0.9.pkl_09.npy',\n",
       " 'Example-D2-0.9.pkl_10.npy',\n",
       " 'Example-D2-0.9.pkl_11.npy']"
      ]
     },
     "execution_count": 3,
     "metadata": {},
     "output_type": "execute_result"
    }
   ],
   "source": [
    "from sklearn.externals import joblib\n",
    "joblib.dump(classifier, 'Example-D1-0.6.pkl')\n",
    "joblib.dump(classifier, 'Example-D2-0.9.pkl')"
   ]
  },
  {
   "cell_type": "code",
   "execution_count": 4,
   "metadata": {
    "collapsed": false
   },
   "outputs": [
    {
     "data": {
      "text/plain": [
       "0.495"
      ]
     },
     "execution_count": 4,
     "metadata": {},
     "output_type": "execute_result"
    }
   ],
   "source": [
    "clf = joblib.load('D1-0.6.pkl')\n",
    "clf.score(d1_test_features, d1_test_labels)"
   ]
  },
  {
   "cell_type": "code",
   "execution_count": null,
   "metadata": {
    "collapsed": true
   },
   "outputs": [],
   "source": []
  }
 ],
 "metadata": {
  "kernelspec": {
   "display_name": "Python 2 (SageMath)",
   "language": "python",
   "name": "python2"
  },
  "language_info": {
   "codemirror_mode": {
    "name": "ipython",
    "version": 2
   },
   "file_extension": ".py",
   "mimetype": "text/x-python",
   "name": "python",
   "nbconvert_exporter": "python",
   "pygments_lexer": "ipython2",
   "version": "2.7.10"
  },
  "name": "ML_3_Prelab_and_Inclass.ipynb"
 },
 "nbformat": 4,
 "nbformat_minor": 0
}
