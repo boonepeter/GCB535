{
 "cells": [
  {
   "cell_type": "markdown",
   "metadata": {},
   "source": [
    "# Introduction to R #"
   ]
  },
  {
   "cell_type": "markdown",
   "metadata": {},
   "source": [
    "**Preamble**:"
   ]
  },
  {
   "cell_type": "markdown",
   "metadata": {},
   "source": [
    "R provides a platform containing many tools to perform statistical tasks including the manipulation, hypothesis testing, graphical display of data, as well as statistical programming. There are many extensions (packages) for R which can add more specialized functionality for a variety of tasks. We are going to introduce you to the basics of R, and at the end of this document there is a list of resources for further information and more comprehensive coverage of these basics."
   ]
  },
  {
   "cell_type": "markdown",
   "metadata": {},
   "source": [
    "Following this lecture note, we anticipate that the user will be able to:\n",
    "-\tOpen the R programming environment and run commands interactively\n",
    "-\tCreate and work with basic data types in R, including vectors and tables (data frames)\n",
    "-\tRun basic functions for statistical computing, like “mean”, “sd”, and “t.test”\n",
    "-\tPlot data as a scatterplot and add a regression line\n",
    "-\tVisualize distributions of data by histogram or boxplot\n",
    "-\tFind additional documentation on any command – e.g. help(mean) or ?mean"
   ]
  },
  {
   "cell_type": "markdown",
   "metadata": {},
   "source": [
    "** Install R**"
   ]
  },
  {
   "cell_type": "markdown",
   "metadata": {},
   "source": [
    "In order to use R, you need to install R first. Go to https://cran.rstudio.com/ and find the right version for your computer (Linux, Mac or Windows). Install it on your computer."
   ]
  },
  {
   "cell_type": "markdown",
   "metadata": {},
   "source": [
    "Alternatively, you can run R in the terminal on Sagemathcloud, i.e, create a terminal on sagemathcloud and then type \"R\" in the termianl. If you run R in this way, you will not be able to see the plot simultaneously when you plot figures in R. We suggest you install R on your computer since you may use it to analyze data in the future."
   ]
  },
  {
   "cell_type": "markdown",
   "metadata": {},
   "source": [
    "**Basic Usage**"
   ]
  },
  {
   "cell_type": "markdown",
   "metadata": {},
   "source": [
    "Start up R. You should see a ‘>’ prompt. At its simplest level, R can function as a handy calculator. Try some basic arithmetic operations e.g."
   ]
  },
  {
   "cell_type": "code",
   "execution_count": null,
   "metadata": {
    "collapsed": true
   },
   "outputs": [],
   "source": [
    "> 7*12+2 \n",
    "[1] 86"
   ]
  },
  {
   "cell_type": "markdown",
   "metadata": {},
   "source": [
    "Don’t include the prompt ‘>’, this is what you should see on your window. Type \"7*12+2\" without quotation mark, you will see \"86\" as the output. The number \"[1]\" before \"86\" is an index of the first element in that line of the output. It is used to count how many elements in each output line and you can just ignore it."
   ]
  },
  {
   "cell_type": "markdown",
   "metadata": {},
   "source": [
    "R can also hold information in variables; try assigning the result to a variable ‘x’ by using \"<-\" or \"=\" (either way is OK):"
   ]
  },
  {
   "cell_type": "code",
   "execution_count": null,
   "metadata": {
    "collapsed": true
   },
   "outputs": [],
   "source": [
    "> x <- 7*12+2\n",
    "> x = 7*12+2"
   ]
  },
  {
   "cell_type": "markdown",
   "metadata": {},
   "source": [
    "The variable ‘x’ now contains the result of that operation, so we can just refer to the variable to retrieve it:"
   ]
  },
  {
   "cell_type": "code",
   "execution_count": null,
   "metadata": {
    "collapsed": true
   },
   "outputs": [],
   "source": [
    "> x \n",
    "[1] 86"
   ]
  },
  {
   "cell_type": "markdown",
   "metadata": {},
   "source": [
    "To see all the variables currently in use, try the ls() command."
   ]
  },
  {
   "cell_type": "markdown",
   "metadata": {},
   "source": [
    "By using vectors, we can work with many numbers at once. In R, the simplest way to create a vector is to use \"c()\" command. Try creating a vector, in this case think of the vector as a list of numbers:"
   ]
  },
  {
   "cell_type": "code",
   "execution_count": null,
   "metadata": {
    "collapsed": true
   },
   "outputs": [],
   "source": [
    "> myvec <- c(1,8,3,2,6,4,5,7)\n",
    "> myvec\n",
    "[1] 1 8 3 2 6 4 5 7"
   ]
  },
  {
   "cell_type": "markdown",
   "metadata": {},
   "source": [
    "For consecutive values such as a vector of 1,2,3,4, we can use one of the three ways:"
   ]
  },
  {
   "cell_type": "code",
   "execution_count": null,
   "metadata": {
    "collapsed": true
   },
   "outputs": [],
   "source": [
    "> myvec <- c(1,2,3,4,5,6,7,8)\n",
    "> myvec <- seq(1,8)\n",
    "> myvec <- 1:8\n",
    "> myvec\n",
    "[1] 1 2 3 4 5 6 7 8"
   ]
  },
  {
   "cell_type": "markdown",
   "metadata": {},
   "source": [
    "The seq function generates sequences of numbers given a starting and stopping point. For example, seq(1,8) is to generate a sequence numbers (a vector) from 1 to 8. For more information try:"
   ]
  },
  {
   "cell_type": "code",
   "execution_count": null,
   "metadata": {
    "collapsed": true
   },
   "outputs": [],
   "source": [
    "> help(seq)"
   ]
  },
  {
   "cell_type": "markdown",
   "metadata": {},
   "source": [
    "We can use the index to take out elements from the vector with \"[]\". For example, if we want the second element of a vector:"
   ]
  },
  {
   "cell_type": "code",
   "execution_count": null,
   "metadata": {
    "collapsed": true
   },
   "outputs": [],
   "source": [
    "> myvec[2]\n",
    "[1] 2"
   ]
  },
  {
   "cell_type": "markdown",
   "metadata": {},
   "source": [
    "If we want more than one elements, we can use a vector of index. For example, if we want the first and third elements:"
   ]
  },
  {
   "cell_type": "code",
   "execution_count": null,
   "metadata": {
    "collapsed": true
   },
   "outputs": [],
   "source": [
    "> myvec[c(1,3)]\n",
    "[1] 1 3"
   ]
  },
  {
   "cell_type": "markdown",
   "metadata": {},
   "source": [
    "If we want the first,second and third elements:"
   ]
  },
  {
   "cell_type": "code",
   "execution_count": null,
   "metadata": {
    "collapsed": true
   },
   "outputs": [],
   "source": [
    "> myvec[c(1,2,3)]\n",
    "[1] 1 2 3"
   ]
  },
  {
   "cell_type": "code",
   "execution_count": null,
   "metadata": {
    "collapsed": true
   },
   "outputs": [],
   "source": [
    "> myvec[1:3]\n",
    "[1] 1 2 3"
   ]
  },
  {
   "cell_type": "markdown",
   "metadata": {},
   "source": [
    "We can use conditions to take out elements. For example, we want elements that larger than 5:"
   ]
  },
  {
   "cell_type": "code",
   "execution_count": null,
   "metadata": {
    "collapsed": true
   },
   "outputs": [],
   "source": [
    "> myvec[myvec>5]\n",
    "[1] 6 7 8"
   ]
  },
  {
   "cell_type": "markdown",
   "metadata": {},
   "source": [
    "R is very useful because it has lots of functions for statistical computing. For example, if we want to calculate the mean value of a numeric vector, we can use the \"mean()\" function:"
   ]
  },
  {
   "cell_type": "code",
   "execution_count": null,
   "metadata": {
    "collapsed": true
   },
   "outputs": [],
   "source": [
    "> mean(myvec)\n",
    "[1] 4.5"
   ]
  },
  {
   "cell_type": "markdown",
   "metadata": {},
   "source": [
    "We can calculate the stadard deviation of a numeric vector with \"sd()\" function:"
   ]
  },
  {
   "cell_type": "code",
   "execution_count": null,
   "metadata": {
    "collapsed": true
   },
   "outputs": [],
   "source": [
    "> sd(myvec)\n",
    "[1] 2.44949"
   ]
  },
  {
   "cell_type": "markdown",
   "metadata": {},
   "source": [
    "We can calculate the sum of a numeric vector with \"sum()\" function:"
   ]
  },
  {
   "cell_type": "code",
   "execution_count": null,
   "metadata": {
    "collapsed": true
   },
   "outputs": [],
   "source": [
    "> sum(myvec)\n",
    "[1] 36"
   ]
  },
  {
   "cell_type": "markdown",
   "metadata": {},
   "source": [
    "We can find the max of min of a numeric vector with \"max()\" or \"min()\" function:"
   ]
  },
  {
   "cell_type": "code",
   "execution_count": null,
   "metadata": {
    "collapsed": true
   },
   "outputs": [],
   "source": [
    "> max(myvec)\n",
    "[1] 8\n",
    "> min(myvec)\n",
    "[1] 1"
   ]
  },
  {
   "cell_type": "markdown",
   "metadata": {},
   "source": [
    "A very useful function to calculate the summary statistic is \"summary()\". It calculates min, max, mean and quantiles of a numeric vector."
   ]
  },
  {
   "cell_type": "code",
   "execution_count": null,
   "metadata": {
    "collapsed": true
   },
   "outputs": [],
   "source": [
    "> summary(myvec)\n",
    "   Min. 1st Qu.  Median    Mean 3rd Qu.    Max.\n",
    "   1.00    2.75    4.50    4.50    6.25    8.00"
   ]
  },
  {
   "cell_type": "markdown",
   "metadata": {},
   "source": [
    "Besides vector, another very useful data type in R is matrix. Vector is one dimensional, but matrix is two dimensional. To create a 3x3 matrix (three rows and three columns):"
   ]
  },
  {
   "cell_type": "code",
   "execution_count": null,
   "metadata": {
    "collapsed": true
   },
   "outputs": [],
   "source": [
    "> y <- matrix(1:9,ncol=3)\n",
    "> y\n",
    "     [,1] [,2] [,3]\n",
    "[1,]    1    4    7\n",
    "[2,]    2    5    8\n",
    "[3,]    3    6    9"
   ]
  },
  {
   "cell_type": "markdown",
   "metadata": {},
   "source": [
    "Similary, we can take out elements we want by using the index method with \"[]\".  Since matrix has row index and column index, we need to specify them separately. "
   ]
  },
  {
   "cell_type": "markdown",
   "metadata": {},
   "source": [
    "Take out the element in the first row and first column:"
   ]
  },
  {
   "cell_type": "code",
   "execution_count": null,
   "metadata": {
    "collapsed": true
   },
   "outputs": [],
   "source": [
    "> y[1,1]\n",
    "[1] 1"
   ]
  },
  {
   "cell_type": "markdown",
   "metadata": {},
   "source": [
    "Take out the elements in the second column:"
   ]
  },
  {
   "cell_type": "code",
   "execution_count": null,
   "metadata": {
    "collapsed": true
   },
   "outputs": [],
   "source": [
    "> y[,2]\n",
    "[1] 4 5 6"
   ]
  },
  {
   "cell_type": "markdown",
   "metadata": {},
   "source": [
    "In the above examples, the first number in \"[]\" is the index number for rows and the second is for columns. If the number is not specified (empty), all rows or columns will be chosen.  For example, in y[,2], the row index is empty, so all rows are chosen."
   ]
  },
  {
   "cell_type": "markdown",
   "metadata": {},
   "source": [
    "** Get help ** "
   ]
  },
  {
   "cell_type": "markdown",
   "metadata": {},
   "source": [
    "There are so many functions in R, we can not remember every detail about the functions. If we aren’t sure from the name of the function or the output, we can try looking at help(<command>) or simply ?<command>, where  <command>  is the function name of what you are interested in knowing more about."
   ]
  },
  {
   "cell_type": "code",
   "execution_count": null,
   "metadata": {
    "collapsed": true
   },
   "outputs": [],
   "source": [
    "help(mean)"
   ]
  },
  {
   "cell_type": "code",
   "execution_count": null,
   "metadata": {
    "collapsed": true
   },
   "outputs": [],
   "source": [
    "?mean"
   ]
  },
  {
   "cell_type": "markdown",
   "metadata": {},
   "source": [
    "We will see a help page describing the mean function. At the bottom of the page, there are some examples of the function. If you don't know how to use this function, copy the example code and modify it to fit your purpose. "
   ]
  },
  {
   "cell_type": "markdown",
   "metadata": {},
   "source": [
    "** Load files into R **"
   ]
  },
  {
   "cell_type": "markdown",
   "metadata": {},
   "source": [
    "Now let’s consider a real dataset. A common use for R is to analyze gene expression data. There are many sophisticated tools for the analysis of gene expression data in the Bioconductor packages for R, but for our purposes we will just be looking at a small example. Start by loading the data into a variable called ‘genes’. Download genes.table file from Canvas (go to \"Files\"->\"Dataset\") or Sagemathcloud (go to the prelab or inclass folder for this section, find the gene.table file and check the box on the left. You will see some options showing up above, click \"download\") and save it in a folder. "
   ]
  },
  {
   "cell_type": "markdown",
   "metadata": {},
   "source": [
    "Change the working folder to where you saved the genes.table. To change the working folder, go to \"MISC\"->\"Changing Working Directory\". After you find the folder where you saved the genes.table, click “open”. Then load the gene.table  with following function:"
   ]
  },
  {
   "cell_type": "code",
   "execution_count": null,
   "metadata": {
    "collapsed": true
   },
   "outputs": [],
   "source": [
    "> genes <- read.table (\"genes.table\", header=TRUE)"
   ]
  },
  {
   "cell_type": "markdown",
   "metadata": {},
   "source": [
    "The parameter of \"header=TRUE\" tells R to read the first line of the data as the header."
   ]
  },
  {
   "cell_type": "markdown",
   "metadata": {},
   "source": [
    "Take a look at the data:"
   ]
  },
  {
   "cell_type": "code",
   "execution_count": null,
   "metadata": {
    "collapsed": true
   },
   "outputs": [],
   "source": [
    "> genes\n",
    "\n",
    "geneA\tgeneB\tgeneC\tgeneD\n",
    "1\t0.029636610\t-0.155897745\t0.777117756\t0.93888225\n",
    "2\t-0.559140191\t0.857408218\t0.954383868\t2.12671764\n",
    "3\t-0.067523485\t-0.890625198\t0.984139714\t1.85739405\n",
    "4\t-0.285218113\t0.652270213\t0.002211166\t1.86939428\n",
    "5\t-1.232894156\t0.086316605\t0.335854710\t0.75098713\n",
    "6\t-0.196549323\t0.034937825\t0.052363658\t3.68738296\n",
    "7\t-0.253381685\t-0.049660675\t0.074749307\t1.19272443\n",
    "…"
   ]
  },
  {
   "cell_type": "markdown",
   "metadata": {},
   "source": [
    "The line with \"geneA geneB ...\" is the header."
   ]
  },
  {
   "cell_type": "markdown",
   "metadata": {},
   "source": [
    "To see the dimensions of this genes matrix, use:"
   ]
  },
  {
   "cell_type": "code",
   "execution_count": null,
   "metadata": {
    "collapsed": true
   },
   "outputs": [],
   "source": [
    "> dim(genes)\n",
    "[1] 500   4"
   ]
  },
  {
   "cell_type": "markdown",
   "metadata": {},
   "source": [
    "The dim() function returns two numbers: number of rows and number of columns in the data. In our case, there are 500 rows(samples) and 4 columns (genes). "
   ]
  },
  {
   "cell_type": "markdown",
   "metadata": {},
   "source": [
    "To take a look at the summary statistic about this data, try out the summary command:"
   ]
  },
  {
   "cell_type": "code",
   "execution_count": null,
   "metadata": {
    "collapsed": true
   },
   "outputs": [],
   "source": [
    "> summary(genes)\n",
    "\n",
    "geneA              geneB              geneC         \n",
    " Min.   :-2.46486   Min.   :-3.40893   Min.   :0.002211  \n",
    " 1st Qu.:-0.74904   1st Qu.:-1.01903   1st Qu.:0.274498  \n",
    " Median :-0.09486   Median :-0.15572   Median :0.503545  \n",
    " Mean   :-0.06279   Mean   :-0.07869   Mean   :0.511763  \n",
    " 3rd Qu.: 0.62399   3rd Qu.: 0.92039   3rd Qu.:0.758671  \n",
    " Max.   : 2.72975   Max.   : 5.68523   Max.   :0.998588  \n",
    "     geneD        \n",
    " Min.   :0.01882  \n",
    " 1st Qu.:0.95127  \n",
    " Median :1.65958  \n",
    " Mean   :2.02778  \n",
    " 3rd Qu.:2.79216  \n",
    " Max.   :9.51955 "
   ]
  },
  {
   "cell_type": "markdown",
   "metadata": {},
   "source": [
    "The output is the summary statistic for each gene. "
   ]
  },
  {
   "cell_type": "markdown",
   "metadata": {},
   "source": [
    "Attach this data frame to the R search path to make referring to the individual columns easier:"
   ]
  },
  {
   "cell_type": "code",
   "execution_count": null,
   "metadata": {
    "collapsed": true
   },
   "outputs": [],
   "source": [
    "> attach(genes)"
   ]
  },
  {
   "cell_type": "markdown",
   "metadata": {},
   "source": [
    "Then, we can take out the geneA column from the data matrix by simply typing the name of that column \"geneA\". Otherwise, we have to use the method that we mentioned before to take out certain columns with \"[]\"."
   ]
  },
  {
   "cell_type": "markdown",
   "metadata": {},
   "source": [
    "Suppose we want to get the expression value for geneA from sample number 72. This can be accessed this way:"
   ]
  },
  {
   "cell_type": "code",
   "execution_count": null,
   "metadata": {
    "collapsed": true
   },
   "outputs": [],
   "source": [
    "> geneA[72]\n",
    "[1] 1.118345"
   ]
  },
  {
   "cell_type": "markdown",
   "metadata": {},
   "source": [
    "Suppose we want to get consecutive expression values for geneA through geneC, from sample number 72 to 82. This can be accessed this way:"
   ]
  },
  {
   "cell_type": "code",
   "execution_count": null,
   "metadata": {
    "collapsed": true
   },
   "outputs": [],
   "source": [
    "> genes[72:82,1:3]\n",
    "        geneA      geneB     geneC\n",
    "72  1.1183447  3.6159026 0.1705514\n",
    "73  1.1548006  1.4464579 0.2210865\n",
    "74 -1.3521000 -2.1358262 0.1085518\n",
    "75 -0.7989839 -0.4503020 0.3693898\n",
    "76  2.2479087  3.0107663 0.4761907\n",
    "77 -0.4121750 -0.9982232 0.0442850\n",
    "78 -0.6288264  0.3858224 0.8184345\n",
    "79 -0.8324235  0.1862088 0.5624599\n",
    "80  0.6695786  1.2820119 0.4003112\n",
    "81 -2.1549177 -3.1816096 0.7164624\n",
    "82 -1.0044667 -0.8399751 0.4736363"
   ]
  },
  {
   "cell_type": "markdown",
   "metadata": {},
   "source": [
    "** T-test**"
   ]
  },
  {
   "cell_type": "markdown",
   "metadata": {},
   "source": [
    "** In the following exercise, we assume you have basic knowledge about hypothesis testing. If don't have such knowledge, please watch the pre-recorded stats lecture, which is the pre-lab for the first lecture. **"
   ]
  },
  {
   "cell_type": "markdown",
   "metadata": {},
   "source": [
    "Next, we will perform a T-test to see if the true mean of the distribution of values for geneA is different from 0. Before doing the T-test, it is important to know that T-test has an assumpution: the data must follow a normal distribution. Otherwise, the T-test is not valid. The simple way to check if the data is normally distributed or not is to plot them. We will learn how to plot in R in the next lecture. For now, let's assume the data are normally distributed and it is safe to use  the t-test on them."
   ]
  },
  {
   "cell_type": "markdown",
   "metadata": {},
   "source": [
    "In thie case, the null hypothesis of the T-test is that the true mean of the distribution of values for geneA is 0 and alternative hypothesis is that the true mean of the distribution of values for geneA is not 0. If the test statistic is very large or the p value is very small, it indicates that the null hypothesis should be rejected. In other words,  the true mean for geneA is not 0. If the test statistic is small or the p value is large, it indicates that we don't have enough evidence to reject the null hypothesis. In other words,  the true mean for geneA is 0."
   ]
  },
  {
   "cell_type": "markdown",
   "metadata": {},
   "source": [
    "The following command is to perform the above test:"
   ]
  },
  {
   "cell_type": "code",
   "execution_count": null,
   "metadata": {
    "collapsed": true
   },
   "outputs": [],
   "source": [
    "> t.test(geneA, mu = 0)\n",
    "\n",
    "\tOne Sample t-test\n",
    "\n",
    "data:  geneA\n",
    "t = -1.423, df = 499, p-value = 0.1554\n",
    "alternative hypothesis: true mean is not equal to 0\n",
    "95 percent confidence interval:\n",
    " -0.1494749  0.0239027\n",
    "sample estimates:\n",
    "  mean of x \n",
    "-0.06278609 "
   ]
  },
  {
   "cell_type": "markdown",
   "metadata": {},
   "source": [
    "From the output, you will see the name of the test is \"One Sample t-test\". The t-statistic is \"t = -1.423\" and the p value is \"p-value = 0.1554\". The alternative hypothesis and 95% confidence interval is also included in the output. Since the p value is relatively large (>0.05) or the 95% confidence interval includes 0, we don't have enough evidence to reject the null hypothesis and thus conclude that the true mean of geneA is 0."
   ]
  },
  {
   "cell_type": "markdown",
   "metadata": {},
   "source": [
    "In the above example, we did a one-sample T-test to compare the mean value of geneA to 0. We can also perform a two-sample T-test to compare the mean value of two genes. For example, we can compare the mean value of geneA with that of geneB. In thie case, the null hypothesis of the two-sample T-test is that the true mean of the distribution of values for geneA is the same as that for geneB. The alternative hypothesis is that the true mean of the distribution of values for geneA is not the same as that for geneB. If the test statistic is very large or the p value is very small, it indicates that the null hypothesis should be rejected. In other words,  the true mean for geneA is not the same as the true mean for geneB. If the test statistic is small or the p value is large, it indicates that we don't have enough evidence to reject the null hypothesis. In other words,  the true mean for geneA is the same as the true mean for geneB."
   ]
  },
  {
   "cell_type": "code",
   "execution_count": null,
   "metadata": {
    "collapsed": true
   },
   "outputs": [],
   "source": [
    "> t.test(geneA, geneB)\n",
    "\n",
    "Welch Two Sample t-test\n",
    "\n",
    "data:  geneA and geneB\n",
    "t = 0.20203, df = 876.75, p-value = 0.8399\n",
    "alternative hypothesis: true difference in means is not equal to 0\n",
    "95 percent confidence interval:\n",
    " -0.1386207  0.1704329\n",
    "sample estimates:\n",
    "  mean of x   mean of y \n",
    "-0.06278609 -0.07869219"
   ]
  },
  {
   "cell_type": "markdown",
   "metadata": {},
   "source": [
    "The output is similar to one-sample T-test. You can see the name of the test is \"Two Sample t-test\". The t-statistic is \"t = 0.20203\" and the p value is \"p-value = 0.8399\". The alternative hypothesis and 95% confidence interval is also included in the output. Since the p value is relatively large (>0.05) or the 95% confidence interval includes 0, we don't have enough evidence to reject the null hypothesis and thus conclude that the true mean of geneA and geneB are the same."
   ]
  }
 ],
 "metadata": {
  "anaconda-cloud": {},
  "kernelspec": {
   "display_name": "Python [default]",
   "language": "python",
   "name": "python2"
  },
  "language_info": {
   "codemirror_mode": {
    "name": "ipython",
    "version": 2
   },
   "file_extension": ".py",
   "mimetype": "text/x-python",
   "name": "python",
   "nbconvert_exporter": "python",
   "pygments_lexer": "ipython2",
   "version": "2.7.12"
  },
  "name": "R_Prelab_1.ipynb"
 },
 "nbformat": 4,
 "nbformat_minor": 0
}
