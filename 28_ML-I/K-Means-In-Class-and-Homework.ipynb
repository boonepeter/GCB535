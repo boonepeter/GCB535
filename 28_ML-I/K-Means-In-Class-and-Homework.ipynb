{
 "cells": [
  {
   "cell_type": "markdown",
   "metadata": {},
   "source": [
    "# _k_-Means Clustering\n",
    "\n",
    "Let's meet our first machine learning algorithm: k-means clustering. K-means has been used to identify subtypes of disease. For example, we discuss [this paper by Tothill et al.](http://www.ncbi.nlm.nih.gov/pubmed/18698038) in our k-means introduction video. Before you dive into the nuts and bolts of an implementation of k-means clustering, let's try to get an intuitive understanding of how this method works: https://youtu.be/qL7TBaMtooM\n",
    "\n",
    "\n",
    "\n"
   ]
  },
  {
   "cell_type": "markdown",
   "metadata": {},
   "source": [
    "_Question: Is k-means clustering a supervised or unsupervised algorithm?_"
   ]
  },
  {
   "cell_type": "markdown",
   "metadata": {},
   "source": []
  },
  {
   "cell_type": "markdown",
   "metadata": {},
   "source": []
  },
  {
   "cell_type": "markdown",
   "metadata": {},
   "source": [
    "### K-Means Demo Code:"
   ]
  },
  {
   "cell_type": "code",
   "execution_count": 1,
   "metadata": {
    "collapsed": true
   },
   "outputs": [],
   "source": [
    "%matplotlib inline\n",
    "# crazy line lets us make figures in the notebook\n",
    "\n",
    "import random\n",
    "import sys\n",
    "from math import sqrt\n",
    "\n",
    "import matplotlib.pyplot as plt\n",
    "import numpy as np"
   ]
  },
  {
   "cell_type": "code",
   "execution_count": 2,
   "metadata": {
    "collapsed": false
   },
   "outputs": [],
   "source": [
    "def assign_nearest(centroids, point):\n",
    "    \"\"\"\n",
    "    assigns the point to its nearest centroid\n",
    "    \n",
    "    params:\n",
    "    centroids - a list of centroids, each of which has 2 dimensions\n",
    "    point - a point, which has two dimensions\n",
    "    \n",
    "    returns:\n",
    "    the index of the centroid the point is closest to.\n",
    "    \"\"\"\n",
    "    nearest_idx = 0\n",
    "    nearest_dist = sys.float_info.max  # largest float on your computer\n",
    "    for i in range(len(centroids)):\n",
    "        # sqrt((x1-x2)^2 + (y1-y2)^2)\n",
    "        dist = sqrt((centroids[i][0]-point[0])**2 + (centroids[i][1]-point[1])**2)\n",
    "        if dist < nearest_dist:  # smallest distance thus far\n",
    "            nearest_idx = i\n",
    "            nearest_dist = dist\n",
    "    \n",
    "    return nearest_idx\n",
    "\n",
    "def kmeans(data, k):\n",
    "    \"\"\"\n",
    "    performs k-means clustering for two-dimensional data.\n",
    "    \n",
    "    params:\n",
    "    data - A numpy array of shape N, 2\n",
    "    k - The number of clusters.\n",
    "    \n",
    "    returns:\n",
    "    a dictionary with three elements\n",
    "        - ['centroids']: a list of the final centroid positions.\n",
    "        - ['members']: a list [one per centroid] of the points assigned to\n",
    "          that centroid at the conclusion of clustering.\n",
    "        - ['paths']: a list [one per centroid] of lists [one per iteration]\n",
    "          containing the points occupied by each centroid.\n",
    "    \"\"\"\n",
    "    \n",
    "    # http://docs.scipy.org/doc/numpy-1.10.0/reference/generated/numpy.ndarray.shape.html#numpy.ndarray.shape\n",
    "    # .shape returns the size of the input numpy array in each dimension\n",
    "    # if there are not 2 dimensions, we can't handle it here.\n",
    "    if data.shape[1] != 2:\n",
    "        return 'This implementation only supports two dimensional data.'\n",
    "    if data.shape[0] < k:\n",
    "        return 'This implementation requires at least as many points as clusters.'\n",
    "    \n",
    "    # pick random points as initial centroids\n",
    "    centroids = []\n",
    "    for x in random.sample(data, k):\n",
    "        # note the use of tuples here\n",
    "        centroids.append(tuple(x.tolist()))\n",
    "        \n",
    "    paths = []\n",
    "    for i in range(k):\n",
    "        paths.append([centroids[i],])\n",
    "    \n",
    "    # we'll store all previous states\n",
    "    # so if we ever hit the same point again we know to stop\n",
    "    previous_states = set()\n",
    "    \n",
    "    # continue until we repeat the same centroid positions\n",
    "    assignments = None\n",
    "    while not tuple(centroids) in previous_states:\n",
    "        previous_states.add(tuple(centroids))\n",
    "        assignments = []\n",
    "        for point in data:\n",
    "            assignments.append(assign_nearest(centroids, point))\n",
    "        \n",
    "        centroids_sum = [] # Make a list for each centroid to store position sum\n",
    "        centroids_n = [] # Make a list for each centroid to store counts\n",
    "        for i in range(k):\n",
    "            centroids_sum.append((0,0))\n",
    "            centroids_n.append(0)\n",
    "            \n",
    "        for i in range(len(assignments)):\n",
    "            centroid = assignments[i]\n",
    "            centroids_n[centroid] += 1  # found a new member of this centroid\n",
    "            # add the point\n",
    "            centroids_sum[centroid] = (centroids_sum[centroid][0] + data[i][0],\n",
    "                                       centroids_sum[centroid][1] + data[i][1])\n",
    "        \n",
    "        for i in range(k):\n",
    "            new_centroid = (centroids_sum[i][0]/centroids_n[i], centroids_sum[i][1]/centroids_n[i])\n",
    "            centroids[i] = new_centroid\n",
    "            paths[i].append(new_centroid)\n",
    "        \n",
    "    r_dict = {}\n",
    "    r_dict['centroids'] = centroids\n",
    "    r_dict['paths'] = paths\n",
    "    r_dict['members'] = assignments\n",
    "    return r_dict\n",
    "    "
   ]
  },
  {
   "cell_type": "code",
   "execution_count": 3,
   "metadata": {
    "collapsed": true
   },
   "outputs": [],
   "source": [
    "\"\"\"\n",
    "This cell is full of plotting code. It uses something called matplotlib\n",
    "to show kmeans clustering. Specifically it shows the path centroids took,\n",
    "where they ended up, and which points were assigned to them. Feel free\n",
    "to take a look at this, but understanding it goes beyond the scope of the\n",
    "class.\n",
    "\"\"\"\n",
    "def plot_km(km, points):\n",
    "    \"\"\"\n",
    "    Plots the results of a kmeans run.\n",
    "    \n",
    "    params:\n",
    "    km - a kmeans result object that contains centroids, paths, and members\n",
    "    \n",
    "    returns:\n",
    "    a matplotlib figure object\n",
    "    \"\"\"\n",
    "    \n",
    "    (xmin, ymin) = np.amin(points, axis=0)\n",
    "    (xmax, ymax) = np.amax(points, axis=0)\n",
    "    \n",
    "\n",
    "    plt.figure(1)\n",
    "    plt.clf()\n",
    "    plt.plot(points[:, 0], points[:, 1], 'k.', markersize=2)\n",
    "    \n",
    "    for path in km['paths']:\n",
    "        nppath = np.asarray(path)\n",
    "        plt.plot(nppath[:, 0], nppath[:, 1])\n",
    "\n",
    "    # Plot the calculated centroids as a red X\n",
    "    centroids = np.asarray(km['centroids'])\n",
    "    plt.scatter(centroids[:, 0], centroids[:, 1],\n",
    "                marker='x', s=169, linewidths=3,\n",
    "                color='r', zorder=10)\n",
    "\n",
    "    plt.title('K-means clustering of simulated data.\\n'\n",
    "              'estimated (red), path (lines)')\n",
    "    plt.xlim(xmin, xmax)\n",
    "    plt.ylim(ymin, ymax)\n",
    "    plt.xticks(())\n",
    "    plt.yticks(())\n",
    "    plt.yticks(())\n",
    "    plt.show()"
   ]
  },
  {
   "cell_type": "code",
   "execution_count": 4,
   "metadata": {
    "collapsed": false
   },
   "outputs": [],
   "source": [
    "pop = np.loadtxt('kmeans-population.csv', delimiter=',')"
   ]
  },
  {
   "cell_type": "code",
   "execution_count": 12,
   "metadata": {
    "collapsed": false
   },
   "outputs": [],
   "source": [
    "km_result = kmeans(pop, 3)"
   ]
  },
  {
   "cell_type": "code",
   "execution_count": 13,
   "metadata": {
    "collapsed": false
   },
   "outputs": [
    {
     "data": {
      "image/png": "[encoded data removed]",
      "text/plain": [
       "<matplotlib.figure.Figure at 0x7fe2e4450fd0>"
      ]
     },
     "metadata": {},
     "output_type": "display_data"
    }
   ],
   "source": [
    "plot_km(km_result, pop)"
   ]
  },
  {
   "cell_type": "markdown",
   "metadata": {},
   "source": [
    "_Question: What role have you selected for the in class exercise?_"
   ]
  },
  {
   "cell_type": "code",
   "execution_count": null,
   "metadata": {
    "collapsed": true
   },
   "outputs": [],
   "source": []
  },
  {
   "cell_type": "markdown",
   "metadata": {
    "collapsed": false
   },
   "source": [
    "## Homework\n",
    "\n",
    "Run the k-means code enough times that you observe times where the centroids end up in the three groups of points and times where the clustering method fails to find the centers of the three groups. *Save an image from one of each (success as 'success.png' and failure as 'failure.png').* Upload both of these images to this folder (4 pts). Then answer the questions below:"
   ]
  },
  {
   "cell_type": "markdown",
   "metadata": {
    "collapsed": true
   },
   "source": [
    "_Q1: What conditions cause k-means to fail to find the appropriate centers? (3 pts)_"
   ]
  },
  {
   "cell_type": "markdown",
   "metadata": {},
   "source": []
  },
  {
   "cell_type": "markdown",
   "metadata": {},
   "source": [
    "_Q2: How might you diagnose situations where this has occurred automatically? You don't need to write the code to do this - just provide a conceptual outline for a strategy that you might employ (3 pts)_"
   ]
  },
  {
   "cell_type": "markdown",
   "metadata": {
    "collapsed": true
   },
   "source": []
  },
  {
   "cell_type": "markdown",
   "metadata": {},
   "source": [
    "## Extra Information\n",
    "\n",
    "The k-means implementation above is functional and could be used. A much more optimized implementation is available in the scikit learn package that we're going to use for the supervised machine learning applications in this course. For more information on using that implementation, check out the documentation: http://scikit-learn.org/stable/modules/generated/sklearn.cluster.KMeans.html"
   ]
  }
 ],
 "metadata": {
  "kernelspec": {
   "display_name": "Python 2 (SageMath)",
   "language": "python",
   "name": "python2"
  },
  "language_info": {
   "codemirror_mode": {
    "name": "ipython",
    "version": 2
   },
   "file_extension": ".py",
   "mimetype": "text/x-python",
   "name": "python",
   "nbconvert_exporter": "python",
   "pygments_lexer": "ipython2",
   "version": "2.7.10"
  },
  "name": "K-Means-In-Class-and-Homework.ipynb"
 },
 "nbformat": 4,
 "nbformat_minor": 0
}
