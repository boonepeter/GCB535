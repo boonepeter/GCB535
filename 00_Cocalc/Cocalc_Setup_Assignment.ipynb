{
 "cells": [
  {
   "cell_type": "markdown",
   "metadata": {},
   "source": [
    "# CoCalc Setup Assignment"
   ]
  },
  {
   "cell_type": "markdown",
   "metadata": {},
   "source": [
    "This assignment is to make sure you set up your CoCalc (previously Sagemathcloud) account correctly.\n",
    "\n",
    "Please fill in your name and email in the following cells. Double click the cell to edit it. After you finish, just close this tab by clicking the \"x\" on the blue tab on the top of the page.\n",
    "\n",
    "The TAs will collect your assignment and grade it. The graded assignment will be returned to you later. This test assignment will not be graded. "
   ]
  },
  {
   "cell_type": "markdown",
   "metadata": {
    "collapsed": false
   },
   "source": [
    "## Please type your name in the following cell. Double click the cell to edit it."
   ]
  },
  {
   "cell_type": "raw",
   "metadata": {
    "collapsed": true
   },
   "source": []
  },
  {
   "cell_type": "markdown",
   "metadata": {},
   "source": [
    "Please type your email address in the following cell. Double click the cell to edit it."
   ]
  },
  {
   "cell_type": "raw",
   "metadata": {
    "collapsed": true
   },
   "source": []
  },
  {
   "cell_type": "markdown",
   "metadata": {},
   "source": [
    "If you have any trouble with Sagemathcloud, please don't hesitate to ask the TAs for help. "
   ]
  }
 ],
 "metadata": {
  "kernelspec": {
   "display_name": "Python 2",
   "language": "python",
   "name": "python2"
  },
  "language_info": {
   "codemirror_mode": {
    "name": "ipython",
    "version": 2
   },
   "file_extension": ".py",
   "mimetype": "text/x-python",
   "name": "python",
   "nbconvert_exporter": "python",
   "pygments_lexer": "ipython2",
   "version": "2.7.10"
  },
  "name": "Sagemathcloud_Setup_Assignment.ipynb"
 },
 "nbformat": 4,
 "nbformat_minor": 0
}
