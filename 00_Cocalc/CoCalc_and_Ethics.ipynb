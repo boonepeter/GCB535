{
 "cells": [
  {
   "cell_type": "markdown",
   "metadata": {
    "collapsed": false
   },
   "source": [
    "# CoCalc Setup and Ethics Assignment"
   ]
  },
  {
   "cell_type": "markdown",
   "metadata": {
    "collapsed": false
   },
   "source": [
    "## CoCalc Setup"
   ]
  },
  {
   "cell_type": "markdown",
   "metadata": {
    "collapsed": false
   },
   "source": [
    "The first goal of this assignment is to make sure you set up your CoCalc account correctly. Your course project folder will always appear as 2018-GCB535-**Your Name**\n",
    "\n",
    "Please fill in your name and email in the following cells. Double click the cell to edit it. After you finish, just close this tab by clicking the \"x\" on the blue tab on the top of the page.\n",
    "\n",
    "The TAs will collect your assignment and grade it. The graded assignment will be returned to you later."
   ]
  },
  {
   "cell_type": "markdown",
   "metadata": {
    "collapsed": false
   },
   "source": [
    "## Please type your name in the following cell. Double click the cell to edit it."
   ]
  },
  {
   "cell_type": "raw",
   "metadata": {
    "collapsed": true
   },
   "source": [
   ]
  },
  {
   "cell_type": "markdown",
   "metadata": {
    "collapsed": false
   },
   "source": [
    "Please type your email address in the following cell. Double click the cell to edit it."
   ]
  },
  {
   "cell_type": "raw",
   "metadata": {
    "collapsed": true
   },
   "source": [
   ]
  },
  {
   "cell_type": "markdown",
   "metadata": {
    "collapsed": false
   },
   "source": [
    "If you have any trouble with CoCalc, please don't hesitate to ask the TAs for help. "
   ]
  },
  {
   "cell_type": "markdown",
   "metadata": {
    "collapsed": false
   },
   "source": [
    "## Plagiarism"
   ]
  },
  {
   "cell_type": "markdown",
   "metadata": {
    "collapsed": false
   },
   "source": [
    "We wanted to take a moment to briefly remind you of our course's plagiarism policy.\n",
    "\n",
    "Plagiarism occurs when scientists use words that are not their own. There are numerous resources that can clarify plagiarism. [This site from Harvard](http://isites.harvard.edu/icb/icb.do?keyword=k70847&pageid=icb.page342054#a_icb_pagecontent732741_student) has examples of various types of plagiarism. There are a number of services that scan documents on the internet to help to detect plagiarism in scientific writing. The course syllabus also contains information about our plagiarism policy.\n",
    "\n",
    "In your own words, please describe the course's plagiarism policy below."
   ]
  },
  {
   "cell_type": "raw",
   "metadata": {
    "collapsed": false
   },
   "source": [
   ]
  }
 ],
 "metadata": {
  "kernelspec": {
   "display_name": "Python 2 (SageMath)",
   "language": "python",
   "name": "python2"
  },
  "language_info": {
   "codemirror_mode": {
    "name": "ipython",
    "version": 2
   },
   "file_extension": ".py",
   "mimetype": "text/x-python",
   "name": "python",
   "nbconvert_exporter": "python",
   "pygments_lexer": "ipython2",
   "version": "2.7.14"
  },
  "name": "Sagemathcloud_Setup_Assignment.ipynb"
 },
 "nbformat": 4,
 "nbformat_minor": 0
}