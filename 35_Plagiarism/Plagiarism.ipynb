{
 "cells": [
  {
   "cell_type": "markdown",
   "metadata": {},
   "source": [
    "## Plagiarism\n",
    "\n",
    "We wanted to take a moment to briefly remind you of our course's plagiarism policy.\n",
    "\n",
    "Plagiarism occurs when scientists use words that are not their own. There are numerous resources that can clarify plagiarism. [This site from Harvard](http://isites.harvard.edu/icb/icb.do?keyword=k70847&pageid=icb.page342054#a_icb_pagecontent732741_student) has examples of various types of plagiarism. There are a number of services that scan documents on the internet to help to detect plagiarism in scientific writing. The course syllabus also contains information about our plagiarism policy.\n",
    "\n",
    "In your own words, please describe the course's plagiarism policy below."
   ]
  },
  {
   "cell_type": "markdown",
   "metadata": {},
   "source": [
    "*Plagarism Policy Description Here*"
   ]
  }
 ],
 "metadata": {
  "anaconda-cloud": {},
  "kernelspec": {
   "display_name": "Python [Root]",
   "language": "python",
   "name": "Python [Root]"
  },
  "language_info": {
   "codemirror_mode": {
    "name": "ipython",
    "version": 2
   },
   "file_extension": ".py",
   "mimetype": "text/x-python",
   "name": "python",
   "nbconvert_exporter": "python",
   "pygments_lexer": "ipython2",
   "version": "2.7.12"
  }
 },
 "nbformat": 4,
 "nbformat_minor": 0
}
