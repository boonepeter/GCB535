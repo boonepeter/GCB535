{
 "cells": [
  {
   "cell_type": "markdown",
   "metadata": {
    "collapsed": false
   },
   "source": [
    "# Prelab 5: Phylogenetics"
   ]
  },
  {
   "cell_type": "markdown",
   "metadata": {},
   "source": [
    " ***First, read the lecture notes on phylogenetics and then answer the questions below and do the following steps to prepare files you will need for next class.***"
   ]
  },
  {
   "cell_type": "markdown",
   "metadata": {},
   "source": [
    "1) What do the branch lengths on trees indicate?"
   ]
  },
  {
   "cell_type": "code",
   "execution_count": null,
   "metadata": {
    "collapsed": true
   },
   "outputs": [],
   "source": []
  },
  {
   "cell_type": "markdown",
   "metadata": {},
   "source": [
    "<img src=\"images/phylo_prelab_tree.pdf\" width=400px align=\"center\">\n",
    "2) Define the terms homolog, ortholog and paralog."
   ]
  },
  {
   "cell_type": "code",
   "execution_count": null,
   "metadata": {
    "collapsed": true
   },
   "outputs": [],
   "source": []
  },
  {
   "cell_type": "markdown",
   "metadata": {},
   "source": [
    "### Preparatory Step 1: Download and format your data file."
   ]
  },
  {
   "cell_type": "markdown",
   "metadata": {},
   "source": [
    "***Task:*** Retrieve the mRNA sequences in FASTA format for the following genes:\n",
    "Hint: This may a useful place to start searching for your sequences:\n",
    "http://www.ncbi.nlm.nih.gov/nuccore\n",
    "- Twist [Fly] (NM_079092, splice form A)\n",
    "- Twist1 [Human] (NM_000474)\n",
    "- Twist1 [Mouse] (NM_011658)\n",
    "- Twist2 [Human] (NM_057179)\n",
    "- Twist2 [Mouse] (NM_007855)"
   ]
  },
  {
   "cell_type": "markdown",
   "metadata": {},
   "source": [
    "***Task:*** Create a single file called twist.fasta on your computer with all of the sequences using the following steps:\n",
    "\n",
    "- Copy and paste these sequences into one text file using any text editor (like gedit or nano). Please keep the same order as the above list (have fly listed first, then Human Twist1, etc.)\n",
    "- Change the header portion of each sequence entry to make your results more readable later on. Both ClustalW and PHYLIP will truncate the header information in their output after about 10 characters. Something very short, like “HumanTw1” is a good idea here.\n",
    "- Save it as twist.fasta. If you made this file on your own computer, upload it into the the phylogenetics assignment directory.\n"
   ]
  },
  {
   "cell_type": "markdown",
   "metadata": {},
   "source": [
    "### Preparatory Step 2: Get familiar with the PHYLIP package"
   ]
  },
  {
   "cell_type": "markdown",
   "metadata": {},
   "source": [
    "The main PHYLIP web page, with  extended documentation, is:\n",
    "http://evolution.genetics.washington.edu/phylip/phylip.html\n",
    "Read about the following programs in the PHYLIP package that we will use in the lab: dnapars, drawtree, retree, seqboot and consense."
   ]
  },
  {
   "cell_type": "markdown",
   "metadata": {},
   "source": [
    "3) What is the purpose of bootstrapping? Describe how it works."
   ]
  },
  {
   "cell_type": "code",
   "execution_count": null,
   "metadata": {
    "collapsed": true
   },
   "outputs": [],
   "source": []
  }
 ],
 "metadata": {
  "anaconda-cloud": {},
  "kernelspec": {
   "display_name": "Python [default]",
   "language": "python",
   "name": "python2"
  },
  "language_info": {
   "codemirror_mode": {
    "name": "ipython",
    "version": 2
   },
   "file_extension": ".py",
   "mimetype": "text/x-python",
   "name": "python",
   "nbconvert_exporter": "python",
   "pygments_lexer": "ipython2",
   "version": "2.7.12"
  },
  "name": "Phylogenetics pre-lab.ipynb"
 },
 "nbformat": 4,
 "nbformat_minor": 0
}
